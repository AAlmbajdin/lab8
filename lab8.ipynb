{
 "cells": [
  {
   "metadata": {
    "ExecuteTime": {
     "end_time": "2024-12-28T18:44:34.090194Z",
     "start_time": "2024-12-28T18:44:33.232478Z"
    }
   },
   "cell_type": "code",
   "source": [
    "import pandas as pd\n",
    "\n",
    "DATA_FILE = \"NationalNames.csv\"\n",
    "\n",
    "df = pd.read_csv(DATA_FILE)"
   ],
   "id": "fbc121e30a2defb3",
   "outputs": [],
   "execution_count": 2
  },
  {
   "metadata": {},
   "cell_type": "markdown",
   "source": "**1. Вивести перші 8 рядків набору даних**",
   "id": "62bd815260d11c8d"
  },
  {
   "metadata": {
    "ExecuteTime": {
     "end_time": "2024-12-28T18:44:36.719192Z",
     "start_time": "2024-12-28T18:44:36.705130Z"
    }
   },
   "cell_type": "code",
   "source": "df.head(8)",
   "id": "12d4f77a5d22c059",
   "outputs": [
    {
     "data": {
      "text/plain": [
       "   Id       Name  Year Gender  Count\n",
       "0   1       Mary  1880      F   7065\n",
       "1   2       Anna  1880      F   2604\n",
       "2   3       Emma  1880      F   2003\n",
       "3   4  Elizabeth  1880      F   1939\n",
       "4   5     Minnie  1880      F   1746\n",
       "5   6   Margaret  1880      F   1578\n",
       "6   7        Ida  1880      F   1472\n",
       "7   8      Alice  1880      F   1414"
      ],
      "text/html": [
       "<div>\n",
       "<style scoped>\n",
       "    .dataframe tbody tr th:only-of-type {\n",
       "        vertical-align: middle;\n",
       "    }\n",
       "\n",
       "    .dataframe tbody tr th {\n",
       "        vertical-align: top;\n",
       "    }\n",
       "\n",
       "    .dataframe thead th {\n",
       "        text-align: right;\n",
       "    }\n",
       "</style>\n",
       "<table border=\"1\" class=\"dataframe\">\n",
       "  <thead>\n",
       "    <tr style=\"text-align: right;\">\n",
       "      <th></th>\n",
       "      <th>Id</th>\n",
       "      <th>Name</th>\n",
       "      <th>Year</th>\n",
       "      <th>Gender</th>\n",
       "      <th>Count</th>\n",
       "    </tr>\n",
       "  </thead>\n",
       "  <tbody>\n",
       "    <tr>\n",
       "      <th>0</th>\n",
       "      <td>1</td>\n",
       "      <td>Mary</td>\n",
       "      <td>1880</td>\n",
       "      <td>F</td>\n",
       "      <td>7065</td>\n",
       "    </tr>\n",
       "    <tr>\n",
       "      <th>1</th>\n",
       "      <td>2</td>\n",
       "      <td>Anna</td>\n",
       "      <td>1880</td>\n",
       "      <td>F</td>\n",
       "      <td>2604</td>\n",
       "    </tr>\n",
       "    <tr>\n",
       "      <th>2</th>\n",
       "      <td>3</td>\n",
       "      <td>Emma</td>\n",
       "      <td>1880</td>\n",
       "      <td>F</td>\n",
       "      <td>2003</td>\n",
       "    </tr>\n",
       "    <tr>\n",
       "      <th>3</th>\n",
       "      <td>4</td>\n",
       "      <td>Elizabeth</td>\n",
       "      <td>1880</td>\n",
       "      <td>F</td>\n",
       "      <td>1939</td>\n",
       "    </tr>\n",
       "    <tr>\n",
       "      <th>4</th>\n",
       "      <td>5</td>\n",
       "      <td>Minnie</td>\n",
       "      <td>1880</td>\n",
       "      <td>F</td>\n",
       "      <td>1746</td>\n",
       "    </tr>\n",
       "    <tr>\n",
       "      <th>5</th>\n",
       "      <td>6</td>\n",
       "      <td>Margaret</td>\n",
       "      <td>1880</td>\n",
       "      <td>F</td>\n",
       "      <td>1578</td>\n",
       "    </tr>\n",
       "    <tr>\n",
       "      <th>6</th>\n",
       "      <td>7</td>\n",
       "      <td>Ida</td>\n",
       "      <td>1880</td>\n",
       "      <td>F</td>\n",
       "      <td>1472</td>\n",
       "    </tr>\n",
       "    <tr>\n",
       "      <th>7</th>\n",
       "      <td>8</td>\n",
       "      <td>Alice</td>\n",
       "      <td>1880</td>\n",
       "      <td>F</td>\n",
       "      <td>1414</td>\n",
       "    </tr>\n",
       "  </tbody>\n",
       "</table>\n",
       "</div>"
      ]
     },
     "execution_count": 3,
     "metadata": {},
     "output_type": "execute_result"
    }
   ],
   "execution_count": 3
  },
  {
   "metadata": {},
   "cell_type": "markdown",
   "source": "**2. Вивести останні 8 рядків набору даних**",
   "id": "ff0b192b355153c8"
  },
  {
   "metadata": {
    "ExecuteTime": {
     "end_time": "2024-12-28T18:45:17.120688Z",
     "start_time": "2024-12-28T18:45:17.110348Z"
    }
   },
   "cell_type": "code",
   "source": "df.tail(8)\n",
   "id": "f0414e3f8cba4d1f",
   "outputs": [
    {
     "data": {
      "text/plain": [
       "              Id     Name  Year Gender  Count\n",
       "1825425  1825426       Zo  2014      M      5\n",
       "1825426  1825427    Zyeir  2014      M      5\n",
       "1825427  1825428     Zyel  2014      M      5\n",
       "1825428  1825429   Zykeem  2014      M      5\n",
       "1825429  1825430   Zymeer  2014      M      5\n",
       "1825430  1825431  Zymiere  2014      M      5\n",
       "1825431  1825432    Zyran  2014      M      5\n",
       "1825432  1825433    Zyrin  2014      M      5"
      ],
      "text/html": [
       "<div>\n",
       "<style scoped>\n",
       "    .dataframe tbody tr th:only-of-type {\n",
       "        vertical-align: middle;\n",
       "    }\n",
       "\n",
       "    .dataframe tbody tr th {\n",
       "        vertical-align: top;\n",
       "    }\n",
       "\n",
       "    .dataframe thead th {\n",
       "        text-align: right;\n",
       "    }\n",
       "</style>\n",
       "<table border=\"1\" class=\"dataframe\">\n",
       "  <thead>\n",
       "    <tr style=\"text-align: right;\">\n",
       "      <th></th>\n",
       "      <th>Id</th>\n",
       "      <th>Name</th>\n",
       "      <th>Year</th>\n",
       "      <th>Gender</th>\n",
       "      <th>Count</th>\n",
       "    </tr>\n",
       "  </thead>\n",
       "  <tbody>\n",
       "    <tr>\n",
       "      <th>1825425</th>\n",
       "      <td>1825426</td>\n",
       "      <td>Zo</td>\n",
       "      <td>2014</td>\n",
       "      <td>M</td>\n",
       "      <td>5</td>\n",
       "    </tr>\n",
       "    <tr>\n",
       "      <th>1825426</th>\n",
       "      <td>1825427</td>\n",
       "      <td>Zyeir</td>\n",
       "      <td>2014</td>\n",
       "      <td>M</td>\n",
       "      <td>5</td>\n",
       "    </tr>\n",
       "    <tr>\n",
       "      <th>1825427</th>\n",
       "      <td>1825428</td>\n",
       "      <td>Zyel</td>\n",
       "      <td>2014</td>\n",
       "      <td>M</td>\n",
       "      <td>5</td>\n",
       "    </tr>\n",
       "    <tr>\n",
       "      <th>1825428</th>\n",
       "      <td>1825429</td>\n",
       "      <td>Zykeem</td>\n",
       "      <td>2014</td>\n",
       "      <td>M</td>\n",
       "      <td>5</td>\n",
       "    </tr>\n",
       "    <tr>\n",
       "      <th>1825429</th>\n",
       "      <td>1825430</td>\n",
       "      <td>Zymeer</td>\n",
       "      <td>2014</td>\n",
       "      <td>M</td>\n",
       "      <td>5</td>\n",
       "    </tr>\n",
       "    <tr>\n",
       "      <th>1825430</th>\n",
       "      <td>1825431</td>\n",
       "      <td>Zymiere</td>\n",
       "      <td>2014</td>\n",
       "      <td>M</td>\n",
       "      <td>5</td>\n",
       "    </tr>\n",
       "    <tr>\n",
       "      <th>1825431</th>\n",
       "      <td>1825432</td>\n",
       "      <td>Zyran</td>\n",
       "      <td>2014</td>\n",
       "      <td>M</td>\n",
       "      <td>5</td>\n",
       "    </tr>\n",
       "    <tr>\n",
       "      <th>1825432</th>\n",
       "      <td>1825433</td>\n",
       "      <td>Zyrin</td>\n",
       "      <td>2014</td>\n",
       "      <td>M</td>\n",
       "      <td>5</td>\n",
       "    </tr>\n",
       "  </tbody>\n",
       "</table>\n",
       "</div>"
      ]
     },
     "execution_count": 4,
     "metadata": {},
     "output_type": "execute_result"
    }
   ],
   "execution_count": 4
  },
  {
   "metadata": {},
   "cell_type": "markdown",
   "source": "**3. Отримати імена стовпців набору даних**",
   "id": "552ecc0b7c54b4ee"
  },
  {
   "metadata": {
    "ExecuteTime": {
     "end_time": "2024-12-28T18:45:19.071630Z",
     "start_time": "2024-12-28T18:45:19.067206Z"
    }
   },
   "cell_type": "code",
   "source": [
    "column_names = df.columns\n",
    "print(\"Імена стовпців:\", column_names.tolist())\n"
   ],
   "id": "17fe4030e77e77a3",
   "outputs": [
    {
     "name": "stdout",
     "output_type": "stream",
     "text": [
      "Імена стовпців: ['Id', 'Name', 'Year', 'Gender', 'Count']\n"
     ]
    }
   ],
   "execution_count": 5
  },
  {
   "metadata": {},
   "cell_type": "markdown",
   "source": "**5. Знайти кількість унікальних імен у наборі даних**",
   "id": "b32134c85bbcc77c"
  },
  {
   "metadata": {
    "ExecuteTime": {
     "end_time": "2024-12-28T18:45:22.314127Z",
     "start_time": "2024-12-28T18:45:22.035702Z"
    }
   },
   "cell_type": "code",
   "source": [
    "unique_names_count = df[\"Name\"].nunique()\n",
    "print(\"Кількість унікальних імен у наборі:\", unique_names_count)\n"
   ],
   "id": "d7d10bf99fa4bea8",
   "outputs": [
    {
     "name": "stdout",
     "output_type": "stream",
     "text": [
      "Кількість унікальних імен у наборі: 93889\n"
     ]
    }
   ],
   "execution_count": 6
  },
  {
   "metadata": {},
   "cell_type": "markdown",
   "source": "**10. Підрахувати кількість унікальних імен у кожному році**\n",
   "id": "e32d58fcfa9092fa"
  },
  {
   "metadata": {
    "ExecuteTime": {
     "end_time": "2024-12-28T18:45:25.114059Z",
     "start_time": "2024-12-28T18:45:24.490509Z"
    }
   },
   "cell_type": "code",
   "source": [
    "unique_per_year = df.groupby(\"Year\")[\"Name\"].nunique()\n",
    "print(\"Кількість унікальних імен по роках:\")\n",
    "print(unique_per_year)\n"
   ],
   "id": "ed7c999f0752f004",
   "outputs": [
    {
     "name": "stdout",
     "output_type": "stream",
     "text": [
      "Кількість унікальних імен по роках:\n",
      "Year\n",
      "1880     1889\n",
      "1881     1830\n",
      "1882     2012\n",
      "1883     1962\n",
      "1884     2158\n",
      "        ...  \n",
      "2010    31603\n",
      "2011    31418\n",
      "2012    31236\n",
      "2013    30774\n",
      "2014    30579\n",
      "Name: Name, Length: 135, dtype: int64\n"
     ]
    }
   ],
   "execution_count": 7
  },
  {
   "metadata": {},
   "cell_type": "markdown",
   "source": "**11. Знайти рік із найбільшою кількістю унікальних імен**",
   "id": "ef3b63afabd6a553"
  },
  {
   "metadata": {
    "ExecuteTime": {
     "end_time": "2024-12-28T18:45:27.765203Z",
     "start_time": "2024-12-28T18:45:27.759034Z"
    }
   },
   "cell_type": "code",
   "source": [
    "year_with_max_unique = unique_per_year.idxmax()\n",
    "max_unique_count = unique_per_year.max()\n",
    "\n",
    "print(f\"Рік із найбільшою кількістю унікальних імен: {year_with_max_unique}\")\n",
    "print(f\"Кількість унікальних імен у цьому році: {max_unique_count}\")\n"
   ],
   "id": "603b07b184f10f8f",
   "outputs": [
    {
     "name": "stdout",
     "output_type": "stream",
     "text": [
      "Рік із найбільшою кількістю унікальних імен: 2008\n",
      "Кількість унікальних імен у цьому році: 32488\n"
     ]
    }
   ],
   "execution_count": 8
  },
  {
   "metadata": {},
   "cell_type": "markdown",
   "source": "**12. Знайти найпопулярніше ім’я в році з найбільшою кількістю унікальних імен**",
   "id": "31453b79f2d152b3"
  },
  {
   "metadata": {
    "ExecuteTime": {
     "end_time": "2024-12-28T18:45:30.769806Z",
     "start_time": "2024-12-28T18:45:30.729596Z"
    }
   },
   "cell_type": "code",
   "source": [
    "target_year = year_with_max_unique\n",
    "\n",
    "df_target_year = df[df[\"Year\"] == target_year]\n",
    "\n",
    "name_counts = df_target_year.groupby(\"Name\")[\"Count\"].sum()\n",
    "\n",
    "most_popular_name = name_counts.idxmax()\n",
    "most_popular_count = name_counts.max()\n",
    "\n",
    "print(f\"Найпопулярніше ім’я в {target_year} році: {most_popular_name}\")\n",
    "print(f\"Кількість народжень (за сумою у полі 'Count'): {most_popular_count}\")\n"
   ],
   "id": "bb8cc9252619ef60",
   "outputs": [
    {
     "name": "stdout",
     "output_type": "stream",
     "text": [
      "Найпопулярніше ім’я в 2008 році: Jacob\n",
      "Кількість народжень (за сумою у полі 'Count'): 22597\n"
     ]
    }
   ],
   "execution_count": 9
  }
 ],
 "metadata": {
  "kernelspec": {
   "display_name": "Python 3",
   "language": "python",
   "name": "python3"
  },
  "language_info": {
   "codemirror_mode": {
    "name": "ipython",
    "version": 2
   },
   "file_extension": ".py",
   "mimetype": "text/x-python",
   "name": "python",
   "nbconvert_exporter": "python",
   "pygments_lexer": "ipython2",
   "version": "2.7.6"
  }
 },
 "nbformat": 4,
 "nbformat_minor": 5
}
